{
 "cells": [
  {
   "cell_type": "markdown",
   "metadata": {
    "toc": true
   },
   "source": [
    "<h1>Table of Contents<span class=\"tocSkip\"></span></h1>\n",
    "<div class=\"toc\"><ul class=\"toc-item\"><li><span><a href=\"#The-Pandas-Series\" data-toc-modified-id=\"The-Pandas-Series-1\"><span class=\"toc-item-num\">1&nbsp;&nbsp;</span>The Pandas Series</a></span><ul class=\"toc-item\"><li><span><a href=\"#What-Is-a-Pandas-Series?\" data-toc-modified-id=\"What-Is-a-Pandas-Series?-1.1\"><span class=\"toc-item-num\">1.1&nbsp;&nbsp;</span><strong><font color=\"red\">What Is a Pandas Series?</font></strong></a></span></li><li><span><a href=\"#So-What's-So-Great-About-a-Pandas-Series?\" data-toc-modified-id=\"So-What's-So-Great-About-a-Pandas-Series?-1.2\"><span class=\"toc-item-num\">1.2&nbsp;&nbsp;</span><strong><font color=\"orange\">So What's So Great About a Pandas Series?</font></strong></a></span></li></ul></li><li><span><a href=\"#Methods\" data-toc-modified-id=\"Methods-2\"><span class=\"toc-item-num\">2&nbsp;&nbsp;</span>Methods</a></span><ul class=\"toc-item\"><li><span><a href=\"#.head()-and-.tail()\" data-toc-modified-id=\".head()-and-.tail()-2.1\"><span class=\"toc-item-num\">2.1&nbsp;&nbsp;</span><code>.head()</code> and <code>.tail()</code></a></span></li><li><span><a href=\"#.value_counts()\" data-toc-modified-id=\".value_counts()-2.2\"><span class=\"toc-item-num\">2.2&nbsp;&nbsp;</span><code>.value_counts()</code></a></span></li><li><span><a href=\"#.isin()\" data-toc-modified-id=\".isin()-2.3\"><span class=\"toc-item-num\">2.3&nbsp;&nbsp;</span><code>.isin()</code></a></span></li></ul></li></ul></div>"
   ]
  },
  {
   "cell_type": "code",
   "execution_count": 3,
   "metadata": {},
   "outputs": [],
   "source": [
    "import numpy as np\n",
    "import pandas as pd\n",
    "\n",
    "import matplotlib.pyplot as plt\n",
    "%matplotlib inline"
   ]
  },
  {
   "cell_type": "markdown",
   "metadata": {},
   "source": [
    "### The Pandas Series\n",
    "\n",
    "#### **<font color=red>What Is a Pandas Series?</font>**\n",
    "\n",
    "A pandas Series object is a one-dimensional, labeled array made up of an auto-generated index that starts at 0 and data consisting of a single data type. You can think of a pandas Series like a single column from a table in Excel or Google Sheets. Pandas also has a structure like the tables in Excel, which is a DataFrame object. \n",
    "\n",
    "**A pandas Series is a single column in a pandas DataFrame. It can be created on its own from a python list,**"
   ]
  },
  {
   "cell_type": "code",
   "execution_count": 41,
   "metadata": {},
   "outputs": [
    {
     "data": {
      "text/plain": [
       "0       red\n",
       "1    yellow\n",
       "2     green\n",
       "3      blue\n",
       "4    orange\n",
       "5       red\n",
       "6    violet\n",
       "7    indigo\n",
       "dtype: object"
      ]
     },
     "execution_count": 41,
     "metadata": {},
     "output_type": "execute_result"
    }
   ],
   "source": [
    "colors = ['red', 'yellow', 'green', 'blue', 'orange', 'red', 'violet', 'indigo']\n",
    "c_series = pd.Series(colors)\n",
    "c_series"
   ]
  },
  {
   "cell_type": "code",
   "execution_count": 42,
   "metadata": {},
   "outputs": [
    {
     "data": {
      "text/plain": [
       "pandas.core.series.Series"
      ]
     },
     "execution_count": 42,
     "metadata": {},
     "output_type": "execute_result"
    }
   ],
   "source": [
    "type(c_series)"
   ]
  },
  {
   "cell_type": "markdown",
   "metadata": {},
   "source": [
    "**from a NumPy array,**"
   ]
  },
  {
   "cell_type": "code",
   "execution_count": 43,
   "metadata": {},
   "outputs": [
    {
     "data": {
      "text/plain": [
       "0     5\n",
       "1    10\n",
       "2    15\n",
       "3    20\n",
       "4    25\n",
       "5    30\n",
       "6    35\n",
       "7    40\n",
       "dtype: int64"
      ]
     },
     "execution_count": 43,
     "metadata": {},
     "output_type": "execute_result"
    }
   ],
   "source": [
    "arr = np.array([5, 10, 15, 20, 25, 30, 35, 40])\n",
    "a_series = pd.Series(arr)\n",
    "a_series"
   ]
  },
  {
   "cell_type": "code",
   "execution_count": 44,
   "metadata": {},
   "outputs": [
    {
     "data": {
      "text/plain": [
       "pandas.core.series.Series"
      ]
     },
     "execution_count": 44,
     "metadata": {},
     "output_type": "execute_result"
    }
   ],
   "source": [
    "type(a_series)"
   ]
  },
  {
   "cell_type": "markdown",
   "metadata": {},
   "source": [
    "**or it can be pulled as a single column from a pandas DataFrame. The Series will reatain the same index as the DataFrame, but I'm jumping ahead; we'll learn more about pandas DataFrames in the near future.**\n",
    "\n",
    "**For now, all you need to know is that a Series can be pulled from a DataFrame using dot notation**\n",
    "\n",
    "```python\n",
    "df.series\n",
    "```\n",
    "**or bracket notation.**\n",
    "\n",
    "```python\n",
    "df['series']\n",
    "```"
   ]
  },
  {
   "cell_type": "markdown",
   "metadata": {},
   "source": [
    "#### **<font color=orange>So What's So Great About a Pandas Series?</font>**\n",
    "\n",
    "A Series can be made up of any data type and comes with many useful attributes and methods adding a dizzying array of functionality to this pandas object.\n",
    "\n",
    "### Methods\n",
    "\n",
    "**Methods** are \n",
    "\n",
    "#### `.head()` and `.tail()`\n",
    "\n",
    "The `.head(n)` method returns the first n rows in the Series; n = 5 by default. This method returns a new Series with the same indexing as the original Series. \n",
    "\n",
    "The `.tail(n)` method returns the last 5 values. Increase or decrease your value for n to return more or less than 5 rows."
   ]
  },
  {
   "cell_type": "code",
   "execution_count": 45,
   "metadata": {},
   "outputs": [
    {
     "data": {
      "text/plain": [
       "0       red\n",
       "1    yellow\n",
       "2     green\n",
       "3      blue\n",
       "4    orange\n",
       "dtype: object"
      ]
     },
     "execution_count": 45,
     "metadata": {},
     "output_type": "execute_result"
    }
   ],
   "source": [
    "# The default is the first 5 rows.\n",
    "\n",
    "c_series.head()"
   ]
  },
  {
   "cell_type": "code",
   "execution_count": 46,
   "metadata": {},
   "outputs": [
    {
     "data": {
      "text/plain": [
       "pandas.core.series.Series"
      ]
     },
     "execution_count": 46,
     "metadata": {},
     "output_type": "execute_result"
    }
   ],
   "source": [
    "# Calling the .head() or .tail() methods on our Series returns another Series.\n",
    "\n",
    "type(c_series.head())"
   ]
  },
  {
   "cell_type": "code",
   "execution_count": 47,
   "metadata": {},
   "outputs": [
    {
     "data": {
      "text/plain": [
       "6    violet\n",
       "7    indigo\n",
       "dtype: object"
      ]
     },
     "execution_count": 47,
     "metadata": {},
     "output_type": "execute_result"
    }
   ],
   "source": [
    "# Calling the .tail() method with our n = 2 returns a Series with the last two rows\n",
    "\n",
    "c_series.tail(2)"
   ]
  },
  {
   "cell_type": "markdown",
   "metadata": {},
   "source": [
    "#### `.value_counts()`\n",
    "\n",
    "The `.value_counts()` method returns a Series with the values from the original c_series as the index and values consisting of the counts of each unique value from the original c_series. This is an extremely useful method you will find yourself using often with Series' containing object and category data types. \n",
    "\n",
    "Below you can see the default settings for the method's parameters. In the [Chaining Methods](#chain) section, we will see more powerful uses for this method.\n",
    "\n",
    "```python\n",
    "series.value_counts(\n",
    "    normalize=False,\n",
    "    sort=True,\n",
    "    ascending=False,\n",
    "    bins=None,\n",
    "    dropna=True,\n",
    ")\n",
    "```"
   ]
  },
  {
   "cell_type": "code",
   "execution_count": 48,
   "metadata": {},
   "outputs": [
    {
     "data": {
      "text/plain": [
       "red       2\n",
       "blue      1\n",
       "yellow    1\n",
       "violet    1\n",
       "indigo    1\n",
       "orange    1\n",
       "green     1\n",
       "dtype: int64"
      ]
     },
     "execution_count": 48,
     "metadata": {},
     "output_type": "execute_result"
    }
   ],
   "source": [
    "# Default\n",
    "\n",
    "c_series.value_counts()"
   ]
  },
  {
   "cell_type": "code",
   "execution_count": 49,
   "metadata": {},
   "outputs": [
    {
     "data": {
      "text/plain": [
       "red       0.250\n",
       "blue      0.125\n",
       "yellow    0.125\n",
       "violet    0.125\n",
       "indigo    0.125\n",
       "orange    0.125\n",
       "green     0.125\n",
       "dtype: float64"
      ]
     },
     "execution_count": 49,
     "metadata": {},
     "output_type": "execute_result"
    }
   ],
   "source": [
    "# normalize=True returns the relative frequency of the unique values\n",
    "\n",
    "c_series.value_counts(normalize=True)"
   ]
  },
  {
   "cell_type": "code",
   "execution_count": 51,
   "metadata": {},
   "outputs": [
    {
     "data": {
      "text/plain": [
       "green     0.125\n",
       "orange    0.125\n",
       "indigo    0.125\n",
       "violet    0.125\n",
       "yellow    0.125\n",
       "blue      0.125\n",
       "red       0.250\n",
       "dtype: float64"
      ]
     },
     "execution_count": 51,
     "metadata": {},
     "output_type": "execute_result"
    }
   ],
   "source": [
    "# normalize=True and ascending=True to display the largest value last\n",
    "\n",
    "c_series.value_counts(normalize=True, ascending=True)"
   ]
  },
  {
   "cell_type": "markdown",
   "metadata": {},
   "source": [
    "#### `.isin()`\n",
    "\n",
    "The `.isin()` method returns a Series of boolean values with the same index as the original Series with `True` indicating that the Series value at that index is in the list or set passed to the method and `False` indicating that it is not present in the list or set.\n",
    "\n",
    "```python\n",
    "series.isin(values)\n",
    "```"
   ]
  },
  {
   "cell_type": "code",
   "execution_count": 53,
   "metadata": {},
   "outputs": [
    {
     "data": {
      "text/plain": [
       "0     True\n",
       "1    False\n",
       "2    False\n",
       "3    False\n",
       "4    False\n",
       "5     True\n",
       "6    False\n",
       "7    False\n",
       "dtype: bool"
      ]
     },
     "execution_count": 53,
     "metadata": {},
     "output_type": "execute_result"
    }
   ],
   "source": [
    "# The values at index 0 and 5 are in my_colors list. I assigned the new Series to bools\n",
    "\n",
    "my_colors = ['black', 'white', 'red']\n",
    "\n",
    "bools = c_series.isin(my_colors)\n",
    "bools"
   ]
  },
  {
   "cell_type": "markdown",
   "metadata": {},
   "source": [
    "**What if I want just the rows that return True for being in my_colors list?**\n",
    "\n",
    "I can pass my `bools` Series as a selector for specific rows in my `c_series`, only rows that return True. This is Boolean Indexing and is a common way to filter data in a Series as well as in a DataFrame.\n",
    "\n",
    "Think of `c_series[bools]` as translating to \"return the rows in my Series where the value is True or **where my condition is True**.\" In this case, our condition for our `bools` Series is that the color is in our `my_colors` list. \n",
    "\n",
    "**So, \"return the rows in `c_series` *where* the value is either black, white, or red.\"**"
   ]
  },
  {
   "cell_type": "code",
   "execution_count": 54,
   "metadata": {},
   "outputs": [
    {
     "data": {
      "text/plain": [
       "0    red\n",
       "5    red\n",
       "dtype: object"
      ]
     },
     "execution_count": 54,
     "metadata": {},
     "output_type": "execute_result"
    }
   ],
   "source": [
    "c_series[bools]"
   ]
  },
  {
   "cell_type": "code",
   "execution_count": null,
   "metadata": {},
   "outputs": [],
   "source": []
  },
  {
   "cell_type": "markdown",
   "metadata": {},
   "source": [
    "### Attributes\n",
    "\n",
    "**Attributes** are like methods but instead of transforming the variable or data they are called on, they return useful information about the object. Jupyter Notebook allows you to quickly access a list of available attributes by pressing the tab key after the series name followed by a period or dot; this is called dot notation.\n",
    "\n",
    "Here, we will look at some of the most commonly used attributes and methods for Series."
   ]
  },
  {
   "cell_type": "code",
   "execution_count": 37,
   "metadata": {},
   "outputs": [
    {
     "data": {
      "text/plain": [
       "dtype('O')"
      ]
     },
     "execution_count": 37,
     "metadata": {},
     "output_type": "execute_result"
    }
   ],
   "source": [
    "# Our Series of color name strings has the object data type\n",
    "\n",
    "c_series.dtype"
   ]
  },
  {
   "cell_type": "code",
   "execution_count": 39,
   "metadata": {},
   "outputs": [
    {
     "data": {
      "text/plain": [
       "dtype('int64')"
      ]
     },
     "execution_count": 39,
     "metadata": {},
     "output_type": "execute_result"
    }
   ],
   "source": [
    "# Our Series of numbers has the int64 data type\n",
    "\n",
    "a_series.dtype"
   ]
  },
  {
   "cell_type": "code",
   "execution_count": null,
   "metadata": {},
   "outputs": [],
   "source": []
  }
 ],
 "metadata": {
  "kernelspec": {
   "display_name": "Python 3",
   "language": "python",
   "name": "python3"
  },
  "language_info": {
   "codemirror_mode": {
    "name": "ipython",
    "version": 3
   },
   "file_extension": ".py",
   "mimetype": "text/x-python",
   "name": "python",
   "nbconvert_exporter": "python",
   "pygments_lexer": "ipython3",
   "version": "3.7.4"
  },
  "toc": {
   "base_numbering": 1,
   "nav_menu": {},
   "number_sections": true,
   "sideBar": true,
   "skip_h1_title": true,
   "title_cell": "Table of Contents",
   "title_sidebar": "Contents",
   "toc_cell": true,
   "toc_position": {
    "height": "calc(100% - 180px)",
    "left": "10px",
    "top": "150px",
    "width": "244.188px"
   },
   "toc_section_display": true,
   "toc_window_display": true
  }
 },
 "nbformat": 4,
 "nbformat_minor": 4
}
