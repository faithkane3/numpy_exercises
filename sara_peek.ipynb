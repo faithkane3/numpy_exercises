{
 "cells": [
  {
   "cell_type": "markdown",
   "metadata": {
    "toc": true
   },
   "source": [
    "<h1>Table of Contents<span class=\"tocSkip\"></span></h1>\n",
    "<div class=\"toc\"><ul class=\"toc-item\"><li><span><a href=\"#Acquire-Data\" data-toc-modified-id=\"Acquire-Data-1\"><span class=\"toc-item-num\">1&nbsp;&nbsp;</span>Acquire Data</a></span><ul class=\"toc-item\"><li><span><a href=\"#DataFrame-Metadata\" data-toc-modified-id=\"DataFrame-Metadata-1.1\"><span class=\"toc-item-num\">1.1&nbsp;&nbsp;</span>DataFrame Metadata</a></span><ul class=\"toc-item\"><li><span><a href=\"#rainfall_summ-df\" data-toc-modified-id=\"rainfall_summ-df-1.1.1\"><span class=\"toc-item-num\">1.1.1&nbsp;&nbsp;</span>rainfall_summ df</a></span></li></ul></li><li><span><a href=\"#Explore-Unique-Values-by-Column\" data-toc-modified-id=\"Explore-Unique-Values-by-Column-1.2\"><span class=\"toc-item-num\">1.2&nbsp;&nbsp;</span>Explore Unique Values by Column</a></span></li><li><span><a href=\"#Explore-Comment-Column\" data-toc-modified-id=\"Explore-Comment-Column-1.3\"><span class=\"toc-item-num\">1.3&nbsp;&nbsp;</span>Explore Comment Column</a></span></li><li><span><a href=\"#Explore-Station-Id-Column\" data-toc-modified-id=\"Explore-Station-Id-Column-1.4\"><span class=\"toc-item-num\">1.4&nbsp;&nbsp;</span>Explore Station Id Column</a></span></li></ul></li></ul></div>"
   ]
  },
  {
   "cell_type": "code",
   "execution_count": 56,
   "metadata": {},
   "outputs": [],
   "source": [
    "import pandas as pd"
   ]
  },
  {
   "cell_type": "markdown",
   "metadata": {},
   "source": [
    "## Acquire Data\n",
    "\n",
    "We will acquire 3 sets of data from csv files. \n",
    "\n",
    "`water_quality` - BexarWaterQualityData.csv\n",
    "\n",
    "`rainfall` - Rainfall24Hour.csv\n",
    "\n",
    "`rainfall_summ` - RainfallSummaryData.csv"
   ]
  },
  {
   "cell_type": "code",
   "execution_count": 58,
   "metadata": {},
   "outputs": [],
   "source": [
    "water_quality = 'BexarWaterQualityData.csv'\n",
    "water_quality = pd.read_csv(water_quality)\n",
    "\n",
    "rainfall = 'Rainfall24Hour.csv'\n",
    "rainfall = pd.read_csv(rainfall)\n",
    "\n",
    "rainfall_summ = 'RainfallSummaryData.csv'\n",
    "rainfall_summ = pd.read_csv(rainfall_summ)"
   ]
  },
  {
   "cell_type": "markdown",
   "metadata": {},
   "source": [
    "### DataFrame Metadata\n",
    "\n",
    "We will look at summary data for each df."
   ]
  },
  {
   "cell_type": "code",
   "execution_count": 59,
   "metadata": {},
   "outputs": [
    {
     "data": {
      "text/html": [
       "<div>\n",
       "<style scoped>\n",
       "    .dataframe tbody tr th:only-of-type {\n",
       "        vertical-align: middle;\n",
       "    }\n",
       "\n",
       "    .dataframe tbody tr th {\n",
       "        vertical-align: top;\n",
       "    }\n",
       "\n",
       "    .dataframe thead th {\n",
       "        text-align: right;\n",
       "    }\n",
       "</style>\n",
       "<table border=\"1\" class=\"dataframe\">\n",
       "  <thead>\n",
       "    <tr style=\"text-align: right;\">\n",
       "      <th></th>\n",
       "      <th>station_id</th>\n",
       "      <th>short_desc</th>\n",
       "      <th>long_desc</th>\n",
       "      <th>latitude</th>\n",
       "      <th>longitude</th>\n",
       "      <th>tag_id</th>\n",
       "      <th>end_date</th>\n",
       "      <th>end_time</th>\n",
       "      <th>end_depth</th>\n",
       "      <th>gtlt</th>\n",
       "      <th>...</th>\n",
       "      <th>common_name</th>\n",
       "      <th>common_units</th>\n",
       "      <th>detailed_desc</th>\n",
       "      <th>units</th>\n",
       "      <th>media</th>\n",
       "      <th>method</th>\n",
       "      <th>min_value</th>\n",
       "      <th>max_value</th>\n",
       "      <th>county_name</th>\n",
       "      <th>comment</th>\n",
       "    </tr>\n",
       "  </thead>\n",
       "  <tbody>\n",
       "    <tr>\n",
       "      <th>0</th>\n",
       "      <td>12689</td>\n",
       "      <td>ROSILLO CREEK UPSTRM SALADO CR</td>\n",
       "      <td>ROSILLO CREEK 0.1 KM ABOVE SALADO CREEK CONFLU...</td>\n",
       "      <td>29.320101</td>\n",
       "      <td>-98.406263</td>\n",
       "      <td>SA10917T</td>\n",
       "      <td>2008-09-18 00:00:00</td>\n",
       "      <td>16:52</td>\n",
       "      <td>0.28</td>\n",
       "      <td>NaN</td>\n",
       "      <td>...</td>\n",
       "      <td>Water Temperature</td>\n",
       "      <td>&amp;deg;C</td>\n",
       "      <td>&lt;p&gt;Water temperature is an important factor in...</td>\n",
       "      <td>DEG C</td>\n",
       "      <td>Water</td>\n",
       "      <td>N/A Calculation</td>\n",
       "      <td>NaN</td>\n",
       "      <td>NaN</td>\n",
       "      <td>Bexar</td>\n",
       "      <td>Abundant algae</td>\n",
       "    </tr>\n",
       "    <tr>\n",
       "      <th>1</th>\n",
       "      <td>12689</td>\n",
       "      <td>ROSILLO CREEK UPSTRM SALADO CR</td>\n",
       "      <td>ROSILLO CREEK 0.1 KM ABOVE SALADO CREEK CONFLU...</td>\n",
       "      <td>29.320101</td>\n",
       "      <td>-98.406263</td>\n",
       "      <td>SA10917T</td>\n",
       "      <td>2008-09-18 00:00:00</td>\n",
       "      <td>16:52</td>\n",
       "      <td>0.28</td>\n",
       "      <td>NaN</td>\n",
       "      <td>...</td>\n",
       "      <td>NaN</td>\n",
       "      <td>NaN</td>\n",
       "      <td>NaN</td>\n",
       "      <td>CFS</td>\n",
       "      <td>Water</td>\n",
       "      <td>N/A Calculation</td>\n",
       "      <td>NaN</td>\n",
       "      <td>NaN</td>\n",
       "      <td>Bexar</td>\n",
       "      <td>Abundant algae</td>\n",
       "    </tr>\n",
       "    <tr>\n",
       "      <th>2</th>\n",
       "      <td>12689</td>\n",
       "      <td>ROSILLO CREEK UPSTRM SALADO CR</td>\n",
       "      <td>ROSILLO CREEK 0.1 KM ABOVE SALADO CREEK CONFLU...</td>\n",
       "      <td>29.320101</td>\n",
       "      <td>-98.406263</td>\n",
       "      <td>SA10917T</td>\n",
       "      <td>2008-09-18 00:00:00</td>\n",
       "      <td>16:52</td>\n",
       "      <td>0.28</td>\n",
       "      <td>NaN</td>\n",
       "      <td>...</td>\n",
       "      <td>Total Dissolved Solids, Calculated</td>\n",
       "      <td>mg/L</td>\n",
       "      <td>&lt;p&gt;Total Dissolved Solids (TDS) is a measure o...</td>\n",
       "      <td>uS/cm</td>\n",
       "      <td>Water</td>\n",
       "      <td>N/A Calculation</td>\n",
       "      <td>NaN</td>\n",
       "      <td>NaN</td>\n",
       "      <td>Bexar</td>\n",
       "      <td>Abundant algae</td>\n",
       "    </tr>\n",
       "    <tr>\n",
       "      <th>3</th>\n",
       "      <td>12689</td>\n",
       "      <td>ROSILLO CREEK UPSTRM SALADO CR</td>\n",
       "      <td>ROSILLO CREEK 0.1 KM ABOVE SALADO CREEK CONFLU...</td>\n",
       "      <td>29.320101</td>\n",
       "      <td>-98.406263</td>\n",
       "      <td>SA10917T</td>\n",
       "      <td>2008-09-18 00:00:00</td>\n",
       "      <td>16:52</td>\n",
       "      <td>0.28</td>\n",
       "      <td>NaN</td>\n",
       "      <td>...</td>\n",
       "      <td>NaN</td>\n",
       "      <td>NaN</td>\n",
       "      <td>NaN</td>\n",
       "      <td>NS</td>\n",
       "      <td>Water</td>\n",
       "      <td>N/A Calculation</td>\n",
       "      <td>NaN</td>\n",
       "      <td>NaN</td>\n",
       "      <td>Bexar</td>\n",
       "      <td>Abundant algae</td>\n",
       "    </tr>\n",
       "    <tr>\n",
       "      <th>4</th>\n",
       "      <td>12689</td>\n",
       "      <td>ROSILLO CREEK UPSTRM SALADO CR</td>\n",
       "      <td>ROSILLO CREEK 0.1 KM ABOVE SALADO CREEK CONFLU...</td>\n",
       "      <td>29.320101</td>\n",
       "      <td>-98.406263</td>\n",
       "      <td>SA10917T</td>\n",
       "      <td>2008-09-18 00:00:00</td>\n",
       "      <td>16:52</td>\n",
       "      <td>0.28</td>\n",
       "      <td>NaN</td>\n",
       "      <td>...</td>\n",
       "      <td>E. coli</td>\n",
       "      <td>MPN/100 mL</td>\n",
       "      <td>&lt;p&gt;These bacteria are typically not harmful to...</td>\n",
       "      <td>MPN/100ml</td>\n",
       "      <td>Water</td>\n",
       "      <td>N/A Calculation</td>\n",
       "      <td>NaN</td>\n",
       "      <td>NaN</td>\n",
       "      <td>Bexar</td>\n",
       "      <td>Abundant algae</td>\n",
       "    </tr>\n",
       "  </tbody>\n",
       "</table>\n",
       "<p>5 rows × 23 columns</p>\n",
       "</div>"
      ],
      "text/plain": [
       "   station_id                      short_desc  \\\n",
       "0       12689  ROSILLO CREEK UPSTRM SALADO CR   \n",
       "1       12689  ROSILLO CREEK UPSTRM SALADO CR   \n",
       "2       12689  ROSILLO CREEK UPSTRM SALADO CR   \n",
       "3       12689  ROSILLO CREEK UPSTRM SALADO CR   \n",
       "4       12689  ROSILLO CREEK UPSTRM SALADO CR   \n",
       "\n",
       "                                           long_desc   latitude  longitude  \\\n",
       "0  ROSILLO CREEK 0.1 KM ABOVE SALADO CREEK CONFLU...  29.320101 -98.406263   \n",
       "1  ROSILLO CREEK 0.1 KM ABOVE SALADO CREEK CONFLU...  29.320101 -98.406263   \n",
       "2  ROSILLO CREEK 0.1 KM ABOVE SALADO CREEK CONFLU...  29.320101 -98.406263   \n",
       "3  ROSILLO CREEK 0.1 KM ABOVE SALADO CREEK CONFLU...  29.320101 -98.406263   \n",
       "4  ROSILLO CREEK 0.1 KM ABOVE SALADO CREEK CONFLU...  29.320101 -98.406263   \n",
       "\n",
       "     tag_id             end_date end_time  end_depth gtlt  ...  \\\n",
       "0  SA10917T  2008-09-18 00:00:00    16:52       0.28  NaN  ...   \n",
       "1  SA10917T  2008-09-18 00:00:00    16:52       0.28  NaN  ...   \n",
       "2  SA10917T  2008-09-18 00:00:00    16:52       0.28  NaN  ...   \n",
       "3  SA10917T  2008-09-18 00:00:00    16:52       0.28  NaN  ...   \n",
       "4  SA10917T  2008-09-18 00:00:00    16:52       0.28  NaN  ...   \n",
       "\n",
       "                          common_name  common_units  \\\n",
       "0                   Water Temperature        &deg;C   \n",
       "1                                 NaN           NaN   \n",
       "2  Total Dissolved Solids, Calculated          mg/L   \n",
       "3                                 NaN           NaN   \n",
       "4                             E. coli    MPN/100 mL   \n",
       "\n",
       "                                       detailed_desc      units  media  \\\n",
       "0  <p>Water temperature is an important factor in...      DEG C  Water   \n",
       "1                                                NaN        CFS  Water   \n",
       "2  <p>Total Dissolved Solids (TDS) is a measure o...      uS/cm  Water   \n",
       "3                                                NaN         NS  Water   \n",
       "4  <p>These bacteria are typically not harmful to...  MPN/100ml  Water   \n",
       "\n",
       "            method min_value max_value county_name         comment  \n",
       "0  N/A Calculation       NaN       NaN       Bexar  Abundant algae  \n",
       "1  N/A Calculation       NaN       NaN       Bexar  Abundant algae  \n",
       "2  N/A Calculation       NaN       NaN       Bexar  Abundant algae  \n",
       "3  N/A Calculation       NaN       NaN       Bexar  Abundant algae  \n",
       "4  N/A Calculation       NaN       NaN       Bexar  Abundant algae  \n",
       "\n",
       "[5 rows x 23 columns]"
      ]
     },
     "execution_count": 59,
     "metadata": {},
     "output_type": "execute_result"
    }
   ],
   "source": [
    "water_quality.head()"
   ]
  },
  {
   "cell_type": "code",
   "execution_count": 60,
   "metadata": {},
   "outputs": [
    {
     "data": {
      "text/plain": [
       "(208373, 23)"
      ]
     },
     "execution_count": 60,
     "metadata": {},
     "output_type": "execute_result"
    }
   ],
   "source": [
    "water_quality.shape"
   ]
  },
  {
   "cell_type": "code",
   "execution_count": 61,
   "metadata": {},
   "outputs": [
    {
     "name": "stdout",
     "output_type": "stream",
     "text": [
      "<class 'pandas.core.frame.DataFrame'>\n",
      "RangeIndex: 208373 entries, 0 to 208372\n",
      "Data columns (total 23 columns):\n",
      " #   Column         Non-Null Count   Dtype  \n",
      "---  ------         --------------   -----  \n",
      " 0   station_id     208373 non-null  int64  \n",
      " 1   short_desc     208373 non-null  object \n",
      " 2   long_desc      208373 non-null  object \n",
      " 3   latitude       208373 non-null  float64\n",
      " 4   longitude      208373 non-null  float64\n",
      " 5   tag_id         208373 non-null  object \n",
      " 6   end_date       208373 non-null  object \n",
      " 7   end_time       208373 non-null  object \n",
      " 8   end_depth      208373 non-null  float64\n",
      " 9   gtlt           19920 non-null   object \n",
      " 10  result         208373 non-null  object \n",
      " 11  parameter_cd   208373 non-null  int64  \n",
      " 12  long_desc.1    208373 non-null  object \n",
      " 13  common_name    76444 non-null   object \n",
      " 14  common_units   76444 non-null   object \n",
      " 15  detailed_desc  76444 non-null   object \n",
      " 16  units          208373 non-null  object \n",
      " 17  media          208373 non-null  object \n",
      " 18  method         208373 non-null  object \n",
      " 19  min_value      0 non-null       float64\n",
      " 20  max_value      0 non-null       float64\n",
      " 21  county_name    208373 non-null  object \n",
      " 22  comment        109941 non-null  object \n",
      "dtypes: float64(5), int64(2), object(16)\n",
      "memory usage: 36.6+ MB\n"
     ]
    }
   ],
   "source": [
    "water_quality.info()"
   ]
  },
  {
   "cell_type": "code",
   "execution_count": 62,
   "metadata": {},
   "outputs": [
    {
     "data": {
      "text/html": [
       "<div>\n",
       "<style scoped>\n",
       "    .dataframe tbody tr th:only-of-type {\n",
       "        vertical-align: middle;\n",
       "    }\n",
       "\n",
       "    .dataframe tbody tr th {\n",
       "        vertical-align: top;\n",
       "    }\n",
       "\n",
       "    .dataframe thead th {\n",
       "        text-align: right;\n",
       "    }\n",
       "</style>\n",
       "<table border=\"1\" class=\"dataframe\">\n",
       "  <thead>\n",
       "    <tr style=\"text-align: right;\">\n",
       "      <th></th>\n",
       "      <th>name</th>\n",
       "      <th>latitude</th>\n",
       "      <th>longitude</th>\n",
       "      <th>datetime</th>\n",
       "      <th>24HourTotal</th>\n",
       "    </tr>\n",
       "  </thead>\n",
       "  <tbody>\n",
       "    <tr>\n",
       "      <th>0</th>\n",
       "      <td>Calaveras 03</td>\n",
       "      <td>29.36972</td>\n",
       "      <td>-98.33231</td>\n",
       "      <td>2018-11-21</td>\n",
       "      <td>0.0</td>\n",
       "    </tr>\n",
       "    <tr>\n",
       "      <th>1</th>\n",
       "      <td>Calaveras 03</td>\n",
       "      <td>29.36972</td>\n",
       "      <td>-98.33231</td>\n",
       "      <td>2018-11-22</td>\n",
       "      <td>0.0</td>\n",
       "    </tr>\n",
       "    <tr>\n",
       "      <th>2</th>\n",
       "      <td>Calaveras 03</td>\n",
       "      <td>29.36972</td>\n",
       "      <td>-98.33231</td>\n",
       "      <td>2018-11-23</td>\n",
       "      <td>0.0</td>\n",
       "    </tr>\n",
       "    <tr>\n",
       "      <th>3</th>\n",
       "      <td>Calaveras 03</td>\n",
       "      <td>29.36972</td>\n",
       "      <td>-98.33231</td>\n",
       "      <td>2018-11-24</td>\n",
       "      <td>0.0</td>\n",
       "    </tr>\n",
       "    <tr>\n",
       "      <th>4</th>\n",
       "      <td>Calaveras 03</td>\n",
       "      <td>29.36972</td>\n",
       "      <td>-98.33231</td>\n",
       "      <td>2018-11-25</td>\n",
       "      <td>0.0</td>\n",
       "    </tr>\n",
       "  </tbody>\n",
       "</table>\n",
       "</div>"
      ],
      "text/plain": [
       "           name  latitude  longitude    datetime  24HourTotal\n",
       "0  Calaveras 03  29.36972  -98.33231  2018-11-21          0.0\n",
       "1  Calaveras 03  29.36972  -98.33231  2018-11-22          0.0\n",
       "2  Calaveras 03  29.36972  -98.33231  2018-11-23          0.0\n",
       "3  Calaveras 03  29.36972  -98.33231  2018-11-24          0.0\n",
       "4  Calaveras 03  29.36972  -98.33231  2018-11-25          0.0"
      ]
     },
     "execution_count": 62,
     "metadata": {},
     "output_type": "execute_result"
    }
   ],
   "source": [
    "rainfall.head()"
   ]
  },
  {
   "cell_type": "code",
   "execution_count": 63,
   "metadata": {},
   "outputs": [
    {
     "data": {
      "text/plain": [
       "(17290, 5)"
      ]
     },
     "execution_count": 63,
     "metadata": {},
     "output_type": "execute_result"
    }
   ],
   "source": [
    "rainfall.shape"
   ]
  },
  {
   "cell_type": "code",
   "execution_count": 64,
   "metadata": {},
   "outputs": [
    {
     "name": "stdout",
     "output_type": "stream",
     "text": [
      "<class 'pandas.core.frame.DataFrame'>\n",
      "RangeIndex: 17290 entries, 0 to 17289\n",
      "Data columns (total 5 columns):\n",
      " #   Column       Non-Null Count  Dtype  \n",
      "---  ------       --------------  -----  \n",
      " 0   name         17290 non-null  object \n",
      " 1   latitude     17290 non-null  float64\n",
      " 2   longitude    17290 non-null  float64\n",
      " 3   datetime     17290 non-null  object \n",
      " 4   24HourTotal  17290 non-null  float64\n",
      "dtypes: float64(3), object(2)\n",
      "memory usage: 675.5+ KB\n"
     ]
    }
   ],
   "source": [
    "rainfall.info()"
   ]
  },
  {
   "cell_type": "markdown",
   "metadata": {},
   "source": [
    "#### rainfall_summ df\n",
    "\n",
    "- `location_name` possible aggregation level with `daily_rainfall_total_inches`.\n",
    "\n",
    "- Possible time series analysis or aggregation by day or time range."
   ]
  },
  {
   "cell_type": "code",
   "execution_count": 65,
   "metadata": {},
   "outputs": [
    {
     "data": {
      "text/html": [
       "<div>\n",
       "<style scoped>\n",
       "    .dataframe tbody tr th:only-of-type {\n",
       "        vertical-align: middle;\n",
       "    }\n",
       "\n",
       "    .dataframe tbody tr th {\n",
       "        vertical-align: top;\n",
       "    }\n",
       "\n",
       "    .dataframe thead th {\n",
       "        text-align: right;\n",
       "    }\n",
       "</style>\n",
       "<table border=\"1\" class=\"dataframe\">\n",
       "  <thead>\n",
       "    <tr style=\"text-align: right;\">\n",
       "      <th></th>\n",
       "      <th>location_name</th>\n",
       "      <th>latitude</th>\n",
       "      <th>longitude</th>\n",
       "      <th>date</th>\n",
       "      <th>daily_rainfall_total_inches</th>\n",
       "    </tr>\n",
       "  </thead>\n",
       "  <tbody>\n",
       "    <tr>\n",
       "      <th>0</th>\n",
       "      <td>Blanco Road Dam</td>\n",
       "      <td>29.6248</td>\n",
       "      <td>-98.52135</td>\n",
       "      <td>2018-01-01</td>\n",
       "      <td>0.01</td>\n",
       "    </tr>\n",
       "    <tr>\n",
       "      <th>1</th>\n",
       "      <td>Blanco Road Dam</td>\n",
       "      <td>29.6248</td>\n",
       "      <td>-98.52135</td>\n",
       "      <td>2018-01-02</td>\n",
       "      <td>0.00</td>\n",
       "    </tr>\n",
       "    <tr>\n",
       "      <th>2</th>\n",
       "      <td>Blanco Road Dam</td>\n",
       "      <td>29.6248</td>\n",
       "      <td>-98.52135</td>\n",
       "      <td>2018-01-03</td>\n",
       "      <td>0.00</td>\n",
       "    </tr>\n",
       "    <tr>\n",
       "      <th>3</th>\n",
       "      <td>Blanco Road Dam</td>\n",
       "      <td>29.6248</td>\n",
       "      <td>-98.52135</td>\n",
       "      <td>2018-01-04</td>\n",
       "      <td>0.00</td>\n",
       "    </tr>\n",
       "    <tr>\n",
       "      <th>4</th>\n",
       "      <td>Blanco Road Dam</td>\n",
       "      <td>29.6248</td>\n",
       "      <td>-98.52135</td>\n",
       "      <td>2018-01-05</td>\n",
       "      <td>0.00</td>\n",
       "    </tr>\n",
       "  </tbody>\n",
       "</table>\n",
       "</div>"
      ],
      "text/plain": [
       "     location_name  latitude  longitude        date  \\\n",
       "0  Blanco Road Dam   29.6248  -98.52135  2018-01-01   \n",
       "1  Blanco Road Dam   29.6248  -98.52135  2018-01-02   \n",
       "2  Blanco Road Dam   29.6248  -98.52135  2018-01-03   \n",
       "3  Blanco Road Dam   29.6248  -98.52135  2018-01-04   \n",
       "4  Blanco Road Dam   29.6248  -98.52135  2018-01-05   \n",
       "\n",
       "   daily_rainfall_total_inches  \n",
       "0                         0.01  \n",
       "1                         0.00  \n",
       "2                         0.00  \n",
       "3                         0.00  \n",
       "4                         0.00  "
      ]
     },
     "execution_count": 65,
     "metadata": {},
     "output_type": "execute_result"
    }
   ],
   "source": [
    "rainfall_summ.head()"
   ]
  },
  {
   "cell_type": "code",
   "execution_count": 66,
   "metadata": {},
   "outputs": [
    {
     "data": {
      "text/plain": [
       "(13395, 5)"
      ]
     },
     "execution_count": 66,
     "metadata": {},
     "output_type": "execute_result"
    }
   ],
   "source": [
    "rainfall_summ.shape"
   ]
  },
  {
   "cell_type": "code",
   "execution_count": 67,
   "metadata": {},
   "outputs": [
    {
     "name": "stdout",
     "output_type": "stream",
     "text": [
      "<class 'pandas.core.frame.DataFrame'>\n",
      "RangeIndex: 13395 entries, 0 to 13394\n",
      "Data columns (total 5 columns):\n",
      " #   Column                       Non-Null Count  Dtype  \n",
      "---  ------                       --------------  -----  \n",
      " 0   location_name                13395 non-null  object \n",
      " 1   latitude                     13395 non-null  float64\n",
      " 2   longitude                    13395 non-null  float64\n",
      " 3   date                         13395 non-null  object \n",
      " 4   daily_rainfall_total_inches  13395 non-null  float64\n",
      "dtypes: float64(3), object(2)\n",
      "memory usage: 523.4+ KB\n"
     ]
    }
   ],
   "source": [
    "rainfall_summ.info()"
   ]
  },
  {
   "cell_type": "markdown",
   "metadata": {},
   "source": [
    "### Explore Unique Values by Column"
   ]
  },
  {
   "cell_type": "code",
   "execution_count": 21,
   "metadata": {},
   "outputs": [
    {
     "name": "stdout",
     "output_type": "stream",
     "text": [
      "There are 152 unique values in the station_id column\n",
      "\n",
      "There are 151 unique values in the short_desc column\n",
      "\n",
      "There are 152 unique values in the long_desc column\n",
      "\n",
      "There are 150 unique values in the latitude column\n",
      "\n",
      "There are 152 unique values in the longitude column\n",
      "\n",
      "There are 11446 unique values in the tag_id column\n",
      "\n",
      "There are 2434 unique values in the end_date column\n",
      "\n",
      "There are 784 unique values in the end_time column\n",
      "\n",
      "There are 167 unique values in the end_depth column\n",
      "\n",
      "There are 2 unique values in the gtlt column\n",
      "\n",
      "There are 5719 unique values in the result column\n",
      "\n",
      "There are 318 unique values in the parameter_cd column\n",
      "\n",
      "There are 318 unique values in the long_desc.1 column\n",
      "\n",
      "There are 12 unique values in the common_name column\n",
      "\n",
      "There are 5 unique values in the common_units column\n",
      "\n",
      "There are 12 unique values in the detailed_desc column\n",
      "\n",
      "There are 28 unique values in the units column\n",
      "\n",
      "There are 3 unique values in the media column\n",
      "\n",
      "There are 2 unique values in the method column\n",
      "\n",
      "There are 0 unique values in the min_value column\n",
      "\n",
      "There are 0 unique values in the max_value column\n",
      "\n",
      "There are 2 unique values in the county_name column\n",
      "\n",
      "There are 3466 unique values in the comment column\n",
      "\n"
     ]
    }
   ],
   "source": [
    "for column in water_quality:\n",
    "    print(f'There are {water_quality[column].nunique()} unique values in the {column} column')\n",
    "    print()"
   ]
  },
  {
   "cell_type": "markdown",
   "metadata": {},
   "source": [
    "### Explore Comment Column"
   ]
  },
  {
   "cell_type": "code",
   "execution_count": 32,
   "metadata": {},
   "outputs": [
    {
     "data": {
      "text/plain": [
       "Rec BacT                                                                                                                                   7095\n",
       "WPP                                                                                                                                        6048\n",
       "SARA SWQM WPP                                                                                                                              5901\n",
       "Abundant algae                                                                                                                             3667\n",
       "SARA-SWQM                                                                                                                                  2589\n",
       "Stormwater event                                                                                                                           1802\n",
       "CRP-SWQM                                                                                                                                   1364\n",
       "Unsafe conditions to measure flow                                                                                                           968\n",
       "CRP SWQM                                                                                                                                    783\n",
       "Algae abundant                                                                                                                              576\n",
       "SARA SWQM                                                                                                                                   575\n",
       "Algae common                                                                                                                                487\n",
       "Water pooled                                                                                                                                485\n",
       "Abundant Algae                                                                                                                              467\n",
       "CRPSWQM                                                                                                                                     456\n",
       "Algae present                                                                                                                               456\n",
       "SARA SWQM WPP BASELINE                                                                                                                      390\n",
       "89971 = EFFLUENT                                                                                                                            379\n",
       "SARASWQM                                                                                                                                    334\n",
       "WPP  Unit 5217                                                                                                                              312\n",
       "METALS: Ca,Mg,Na,K,Ba,Cr,Cu,Fe,Mn,Mo,Ni,Zn,Al,As,Pb                                                                                         290\n",
       "Periphyton common                                                                                                                           259\n",
       "METALS:Ca,Mg,Na,K,Ba,Cr,Cu,Fe,Mn,Mo,Ni,Zn,Al,As,Pb                                                                                          249\n",
       "Abundant algae present                                                                                                                      227\n",
       "Barge traffic                                                                                                                               211\n",
       "High boat traffic                                                                                                                           200\n",
       "Filamentous algae                                                                                                                           199\n",
       "Abundant filamentous algae                                                                                                                  185\n",
       "Unsafe conditions for using River Cat                                                                                                       159\n",
       "Pedestrians                                                                                                                                 144\n",
       "WATER POOLED.                                                                                                                               141\n",
       "Dry                                                                                                                                         141\n",
       "Water Turbid                                                                                                                                137\n",
       "SEE ASSOCIATED 24 HR DO SAMPLE #0224753                                                                                                     132\n",
       "Abundant Algae  NO3  NO2  SO4 and CL were outsourced to GBRA                                                                                130\n",
       "SEE ASSOCIATED 24 HR DO SAMPLE #0224752                                                                                                     130\n",
       "Construction upstream of sample site                                                                                                        129\n",
       "24 hr. DO COMPLETE ON SAMPLE #0218223                                                                                                       126\n",
       "Metals: Ca, Mg, Na, K, Ba, Cr, Cu, Fe, Mn, Mo, Ni, Zn, Al, As, Pb                                                                           126\n",
       "Filamentous algae present                                                                                                                   126\n",
       "Metals: As, Ba, Cd, Cr, Cu, Pb, Mn, Ni, Ag, Zn, Sb, Al, Se, Hg                                                                              126\n",
       "89971 = EFFLUENT; ASSOCIATED 24 HR DO #0224751                                                                                              122\n",
       "Barge Traffic                                                                                                                               122\n",
       "24 hr DO ON SAMPLE #0218222                                                                                                                 122\n",
       "DEPTH OF STREAM AT SAMPLE COLLECTION PT.  0.28M                                                                                             120\n",
       "0.415 TOTAL WATER DEPTH AT SAMPLE POINT, HYDRA CARINA - ARRENUROIDEA AND HYGROBATOIDEA (NO STORET CODE FOUND)                               119\n",
       "Post calibration DO sensor out of range                                                                                                     117\n",
       "INTERMITTENT LIGHT RAIN THROUGHOUT THE DAY                                                                                                  116\n",
       "Waterfowl present                                                                                                                           115\n",
       "DEPLOYED YSI 24 Hr D.O.                                                                                                                     114\n",
       "Kelly Rodibaugh (TCEQ) did assist the SARA for this event, but did not sign this field data sheet.                                          112\n",
       "Ca,Mg,Na,K,Ba,Cr,Cu,Fe,Mn,Mo,Ni,Zn,Al,As,Pb,Calculated Hardness                                                                             110\n",
       "WPP Weekly                                                                                                                                  108\n",
       "Associated with 24hr DO                                                                                                                     107\n",
       "BENTHIC KICK DIST. 23M   -   0.325 DEPTH @ SAMPLE POINT                                                                                     106\n",
       "WPP  UNIT 5218                                                                                                                              104\n",
       "CRP-SWQM; REFERENCE SA08535 FOR FLOW & SA08537 FOR 24HR COMPOSITE                                                                           102\n",
       "Algae common.                                                                                                                               101\n",
       "An aliquot of sample was taken from the gal. cont. and was placed in a qt. cont. to be outsourced to GBRA for Anions prior to sample lo     101\n",
       "Name: comment, dtype: int64"
      ]
     },
     "execution_count": 32,
     "metadata": {},
     "output_type": "execute_result"
    }
   ],
   "source": [
    "water_quality.comment.value_counts()[water_quality.comment.value_counts() > 100]"
   ]
  },
  {
   "cell_type": "markdown",
   "metadata": {},
   "source": [
    "### Explore Station Id Column\n",
    "\n",
    "There are 152 unique station ids in the `station_id` column. Possible level of aggregation."
   ]
  },
  {
   "cell_type": "code",
   "execution_count": 37,
   "metadata": {},
   "outputs": [
    {
     "data": {
      "text/plain": [
       "12897    10285\n",
       "14256    10270\n",
       "17066     8641\n",
       "14198     7036\n",
       "12870     6421\n",
       "         ...  \n",
       "18859       14\n",
       "16582       11\n",
       "12848       11\n",
       "14225        9\n",
       "15643        1\n",
       "Name: station_id, Length: 152, dtype: int64"
      ]
     },
     "execution_count": 37,
     "metadata": {},
     "output_type": "execute_result"
    }
   ],
   "source": [
    "water_quality.station_id.value_counts()"
   ]
  },
  {
   "cell_type": "code",
   "execution_count": 54,
   "metadata": {},
   "outputs": [
    {
     "data": {
      "text/html": [
       "<div>\n",
       "<style scoped>\n",
       "    .dataframe tbody tr th:only-of-type {\n",
       "        vertical-align: middle;\n",
       "    }\n",
       "\n",
       "    .dataframe tbody tr th {\n",
       "        vertical-align: top;\n",
       "    }\n",
       "\n",
       "    .dataframe thead th {\n",
       "        text-align: right;\n",
       "    }\n",
       "</style>\n",
       "<table border=\"1\" class=\"dataframe\">\n",
       "  <thead>\n",
       "    <tr style=\"text-align: right;\">\n",
       "      <th></th>\n",
       "      <th>station_id</th>\n",
       "      <th>0</th>\n",
       "    </tr>\n",
       "  </thead>\n",
       "  <tbody>\n",
       "    <tr>\n",
       "      <th>0</th>\n",
       "      <td>12689</td>\n",
       "      <td>219</td>\n",
       "    </tr>\n",
       "    <tr>\n",
       "      <th>1</th>\n",
       "      <td>12690</td>\n",
       "      <td>437</td>\n",
       "    </tr>\n",
       "    <tr>\n",
       "      <th>2</th>\n",
       "      <td>12692</td>\n",
       "      <td>247</td>\n",
       "    </tr>\n",
       "    <tr>\n",
       "      <th>3</th>\n",
       "      <td>12693</td>\n",
       "      <td>570</td>\n",
       "    </tr>\n",
       "    <tr>\n",
       "      <th>4</th>\n",
       "      <td>12698</td>\n",
       "      <td>1057</td>\n",
       "    </tr>\n",
       "    <tr>\n",
       "      <th>...</th>\n",
       "      <td>...</td>\n",
       "      <td>...</td>\n",
       "    </tr>\n",
       "    <tr>\n",
       "      <th>147</th>\n",
       "      <td>21547</td>\n",
       "      <td>1759</td>\n",
       "    </tr>\n",
       "    <tr>\n",
       "      <th>148</th>\n",
       "      <td>21599</td>\n",
       "      <td>948</td>\n",
       "    </tr>\n",
       "    <tr>\n",
       "      <th>149</th>\n",
       "      <td>21705</td>\n",
       "      <td>310</td>\n",
       "    </tr>\n",
       "    <tr>\n",
       "      <th>150</th>\n",
       "      <td>21825</td>\n",
       "      <td>429</td>\n",
       "    </tr>\n",
       "    <tr>\n",
       "      <th>151</th>\n",
       "      <td>22062</td>\n",
       "      <td>56</td>\n",
       "    </tr>\n",
       "  </tbody>\n",
       "</table>\n",
       "<p>152 rows × 2 columns</p>\n",
       "</div>"
      ],
      "text/plain": [
       "     station_id     0\n",
       "0         12689   219\n",
       "1         12690   437\n",
       "2         12692   247\n",
       "3         12693   570\n",
       "4         12698  1057\n",
       "..          ...   ...\n",
       "147       21547  1759\n",
       "148       21599   948\n",
       "149       21705   310\n",
       "150       21825   429\n",
       "151       22062    56\n",
       "\n",
       "[152 rows x 2 columns]"
      ]
     },
     "execution_count": 54,
     "metadata": {},
     "output_type": "execute_result"
    }
   ],
   "source": [
    "temp_df = water_quality.groupby(['station_id'])[['tag_id']].size().reset_index()\n",
    "temp_df.rename({'0': 'tag_id'})"
   ]
  },
  {
   "cell_type": "code",
   "execution_count": null,
   "metadata": {},
   "outputs": [],
   "source": []
  }
 ],
 "metadata": {
  "kernelspec": {
   "display_name": "Python 3",
   "language": "python",
   "name": "python3"
  },
  "language_info": {
   "codemirror_mode": {
    "name": "ipython",
    "version": 3
   },
   "file_extension": ".py",
   "mimetype": "text/x-python",
   "name": "python",
   "nbconvert_exporter": "python",
   "pygments_lexer": "ipython3",
   "version": "3.7.4"
  },
  "toc": {
   "base_numbering": 1,
   "nav_menu": {},
   "number_sections": true,
   "sideBar": true,
   "skip_h1_title": true,
   "title_cell": "Table of Contents",
   "title_sidebar": "Contents",
   "toc_cell": true,
   "toc_position": {},
   "toc_section_display": true,
   "toc_window_display": false
  }
 },
 "nbformat": 4,
 "nbformat_minor": 4
}
