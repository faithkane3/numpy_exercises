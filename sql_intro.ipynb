{
 "cells": [
  {
   "cell_type": "markdown",
   "metadata": {
    "toc": true
   },
   "source": [
    "<h1>Table of Contents<span class=\"tocSkip\"></span></h1>\n",
    "<div class=\"toc\"><ul class=\"toc-item\"><li><span><a href=\"#Introduction-to-SQL\" data-toc-modified-id=\"Introduction-to-SQL-1\"><span class=\"toc-item-num\">1&nbsp;&nbsp;</span>Introduction to SQL</a></span><ul class=\"toc-item\"><li><ul class=\"toc-item\"><li><span><a href=\"#What-are-SQL-and-MySQL?\" data-toc-modified-id=\"What-are-SQL-and-MySQL?-1.0.1\"><span class=\"toc-item-num\">1.0.1&nbsp;&nbsp;</span><strong><font color=\"red\">What are SQL and MySQL?</font></strong></a></span></li><li><span><a href=\"#So-What-Makes-Tables-in-a-Database-Relational?\" data-toc-modified-id=\"So-What-Makes-Tables-in-a-Database-Relational?-1.0.2\"><span class=\"toc-item-num\">1.0.2&nbsp;&nbsp;</span><strong><font color=\"orange\">So What Makes Tables in a Database Relational?</font></strong></a></span></li><li><span><a href=\"#Now-What?\" data-toc-modified-id=\"Now-What?-1.0.3\"><span class=\"toc-item-num\">1.0.3&nbsp;&nbsp;</span><strong><font color=\"gree\">Now What?</font></strong></a></span></li></ul></li></ul></li></ul></div>"
   ]
  },
  {
   "cell_type": "markdown",
   "metadata": {},
   "source": [
    "## Introduction to SQL\n",
    "\n",
    "#### **<font color=red>What are SQL and MySQL?</font>**\n",
    "\n",
    "**SQL**, *Structured Query Language*, is a computer language that allows you to communicate with databases. \n",
    "\n",
    "**MySQL** is a Relational Database Management System, *RDBMS*, used to interact with a database. It serves as the interface between a user and a database allowing the user to employ SQL to interact with the database.\n",
    "\n",
    "**A database** is a collection of related tables used to store and manage data.\n",
    "\n",
    "- **A schema** is like a blueprint for a database. In MySQL, the term is interchangeable with database.\n",
    "\n",
    "**A table** is a collection of records. \n",
    "\n",
    "**A record** is a single observation or row in a table.\n",
    "\n",
    "**A field** is a single category or column in a table.\n",
    "\n",
    "**A value** is the content of a single cell.\n",
    "\n",
    "![table](https://developer.salesforce.com/docs/resources/img/en-us/192.0?doc_id=dev_guides%2Fappx_dev%2Fimages%2Fadg_db_positions.jpg&folder=fundamentals)"
   ]
  },
  {
   "cell_type": "markdown",
   "metadata": {},
   "source": [
    "#### **<font color=orange>So What Makes Tables in a Database Relational?</font>**\n",
    "\n",
    "**A Primary Key** is the **unique identifier** for a record in a table. You cannot have a Null value in the primary key column, nor can any two records share the same value in this field.\n",
    "\n",
    "**A Foreign Key** is a field in a table that serves as the primary key for another table. Although this field must contain unique values in the table for which it serves as a primary key, it **does NOT have to contain unique values** in the table for which it serves as a foreign key.\n",
    "\n",
    "![keys](https://miro.medium.com/max/2406/1*yW_ha3z8Mp6fUn9m6qWwNw.png)\n",
    "\n",
    "- **A composite key** is when a table has more than one primary key; it's a multiple-column index. The primary key is comprised of a unique combination of two or more fields and serves as the unique identifier of each record.\n",
    "\n",
    "![composite](https://www.callicoder.com/assets/images/post/large/hibernate-composite-primary-key-example-table-structure.jpg)\n",
    "\n",
    "**One-to-Many Relationship**"
   ]
  },
  {
   "cell_type": "markdown",
   "metadata": {},
   "source": [
    "#### **<font color=gree>Now What?</font>**\n",
    "\n",
    "**Use the following commands to inspect information about available databases and tables.\n",
    "\n",
    "```sql\n",
    "SHOW DATABASES;\n",
    "```\n",
    "\n",
    "```sql\n",
    "USE database_name;\n",
    "```\n",
    "\n",
    "```sql\n",
    "SELECT database();\n",
    "```\n",
    "\n",
    "```sql\n",
    "SHOW TABLES;\n",
    "```\n",
    "\n",
    "```sql\n",
    "DESCRIBE table_name;\n",
    "```\n",
    "\n",
    "```sql"
   ]
  },
  {
   "cell_type": "code",
   "execution_count": null,
   "metadata": {},
   "outputs": [],
   "source": []
  }
 ],
 "metadata": {
  "kernelspec": {
   "display_name": "Python 3",
   "language": "python",
   "name": "python3"
  },
  "language_info": {
   "codemirror_mode": {
    "name": "ipython",
    "version": 3
   },
   "file_extension": ".py",
   "mimetype": "text/x-python",
   "name": "python",
   "nbconvert_exporter": "python",
   "pygments_lexer": "ipython3",
   "version": "3.7.4"
  },
  "toc": {
   "base_numbering": 1,
   "nav_menu": {},
   "number_sections": true,
   "sideBar": true,
   "skip_h1_title": true,
   "title_cell": "Table of Contents",
   "title_sidebar": "Contents",
   "toc_cell": true,
   "toc_position": {},
   "toc_section_display": true,
   "toc_window_display": false
  }
 },
 "nbformat": 4,
 "nbformat_minor": 4
}
