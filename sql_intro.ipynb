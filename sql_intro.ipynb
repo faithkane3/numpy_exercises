{
 "cells": [
  {
   "cell_type": "markdown",
   "metadata": {
    "toc": true
   },
   "source": [
    "<h1>Table of Contents<span class=\"tocSkip\"></span></h1>\n",
    "<div class=\"toc\"><ul class=\"toc-item\"><li><span><a href=\"#Introduction-to-SQL\" data-toc-modified-id=\"Introduction-to-SQL-1\"><span class=\"toc-item-num\">1&nbsp;&nbsp;</span>Introduction to SQL</a></span></li></ul></div>"
   ]
  },
  {
   "cell_type": "markdown",
   "metadata": {},
   "source": [
    "## Introduction to SQL\n",
    "\n",
    "**SQL**, *Structured Query Language*, is a computer language that allows you to communicate with databases. \n",
    "\n",
    "**MySQL** is a Relational Database Management System, *RDBMS*, used to store and manage data.\n",
    "\n",
    "**A database** is a collection of related tables.\n",
    "\n",
    "**A table** is a collection of records. \n",
    "\n",
    "**A record** is a single observation or row in a table.\n",
    "\n",
    "**A field** is a single category or column in a table.\n",
    "\n",
    "![table](https://developer.salesforce.com/docs/resources/img/en-us/192.0?doc_id=dev_guides%2Fappx_dev%2Fimages%2Fadg_db_positions.jpg&folder=fundamentals)"
   ]
  },
  {
   "cell_type": "code",
   "execution_count": null,
   "metadata": {},
   "outputs": [],
   "source": []
  }
 ],
 "metadata": {
  "kernelspec": {
   "display_name": "Python 3",
   "language": "python",
   "name": "python3"
  },
  "language_info": {
   "codemirror_mode": {
    "name": "ipython",
    "version": 3
   },
   "file_extension": ".py",
   "mimetype": "text/x-python",
   "name": "python",
   "nbconvert_exporter": "python",
   "pygments_lexer": "ipython3",
   "version": "3.7.4"
  },
  "toc": {
   "base_numbering": 1,
   "nav_menu": {},
   "number_sections": true,
   "sideBar": true,
   "skip_h1_title": true,
   "title_cell": "Table of Contents",
   "title_sidebar": "Contents",
   "toc_cell": true,
   "toc_position": {},
   "toc_section_display": true,
   "toc_window_display": false
  }
 },
 "nbformat": 4,
 "nbformat_minor": 4
}
